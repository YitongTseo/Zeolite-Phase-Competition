{
 "cells": [
  {
   "cell_type": "markdown",
   "metadata": {},
   "source": [
    "# Cobalt titration experiments\n",
    "\n",
    "In this notebook, we reproduce Fig. S20A and B of the manuscript, which contains the results of the cobalt titration experiments and calculations"
   ]
  },
  {
   "cell_type": "code",
   "execution_count": 12,
   "metadata": {},
   "outputs": [],
   "source": [
    "import pandas as pd\n",
    "import numpy as np\n",
    "import matplotlib.pyplot as plt"
   ]
  },
  {
   "cell_type": "markdown",
   "metadata": {},
   "source": [
    "## Fig. S20A: DFT calculations"
   ]
  },
  {
   "cell_type": "code",
   "execution_count": 34,
   "metadata": {},
   "outputs": [],
   "source": [
    "dft = pd.read_csv('../data/figS20/figS20A.csv', index_col=0)"
   ]
  },
  {
   "cell_type": "code",
   "execution_count": 36,
   "metadata": {},
   "outputs": [
    {
     "data": {
      "image/png": "[encoded data removed]",
      "text/plain": [
       "<Figure size 288x288 with 1 Axes>"
      ]
     },
     "metadata": {
      "needs_background": "light"
     },
     "output_type": "display_data"
    }
   ],
   "source": [
    "fig, ax = plt.subplots(figsize=(4, 4))\n",
    "\n",
    "df_ = dft.loc[dft.energy < 100]\n",
    "\n",
    "ax.scatter(\n",
    "    df_['al_dist'],\n",
    "    df_['energy'],\n",
    "    s=70,\n",
    ")\n",
    "\n",
    "for _, row in df_.iterrows():\n",
    "    ax.annotate(\n",
    "        str(row['aluminum_idx']),\n",
    "        (row['al_dist'] + 0.1, row['energy']),\n",
    "        fontsize=12,\n",
    "    )\n",
    "\n",
    "ax.set_ylabel('Energy (kJ/mol)')\n",
    "ax.set_xlabel('Al-Al distance (Å)')\n",
    "\n",
    "plt.show()"
   ]
  },
  {
   "cell_type": "markdown",
   "metadata": {},
   "source": [
    "## Fig. S20B: experimental cobalt titration"
   ]
  },
  {
   "cell_type": "code",
   "execution_count": 28,
   "metadata": {},
   "outputs": [],
   "source": [
    "df = pd.read_csv('../data/figS20/figS20B.csv', index_col=0)"
   ]
  },
  {
   "cell_type": "code",
   "execution_count": 13,
   "metadata": {},
   "outputs": [],
   "source": [
    "def error_bar(values):\n",
    "    return np.std(values) / np.sqrt(len(values) - 2)"
   ]
  },
  {
   "cell_type": "code",
   "execution_count": 29,
   "metadata": {},
   "outputs": [],
   "source": [
    "spiro = df.loc[df.SDA == 'spiro']\n",
    "tmada = df.loc[df.SDA == 'TMAdaOH']"
   ]
  },
  {
   "cell_type": "code",
   "execution_count": 33,
   "metadata": {},
   "outputs": [
    {
     "data": {
      "image/png": "[encoded data removed]",
      "text/plain": [
       "<Figure size 144x216 with 1 Axes>"
      ]
     },
     "metadata": {
      "needs_background": "light"
     },
     "output_type": "display_data"
    }
   ],
   "source": [
    "fig, ax = plt.subplots(figsize=(2, 3))\n",
    "\n",
    "for osda, subdf in df.groupby('SDA'):\n",
    "    \n",
    "    ax.scatter(\n",
    "        subdf['Si/Al'].mean(),\n",
    "        subdf['Co/Al'].mean() * 100,\n",
    "        s=30\n",
    "    )\n",
    "\n",
    "    ax.errorbar(\n",
    "        subdf['Si/Al'].mean(),\n",
    "        subdf['Co/Al'].mean() * 100,\n",
    "        error_bar(subdf['Co/Al']) * 100,\n",
    "        error_bar(subdf['Si/Al']),\n",
    "        label=osda\n",
    "    )\n",
    "\n",
    "ax.set_xlabel('Si/Al')\n",
    "ax.set_ylabel('Co/Al (1E-2)')\n",
    "\n",
    "plt.show()"
   ]
  }
 ],
 "metadata": {
  "kernelspec": {
   "display_name": "htvs",
   "language": "python",
   "name": "htvs"
  },
  "language_info": {
   "codemirror_mode": {
    "name": "ipython",
    "version": 3
   },
   "file_extension": ".py",
   "mimetype": "text/x-python",
   "name": "python",
   "nbconvert_exporter": "python",
   "pygments_lexer": "ipython3",
   "version": "3.7.8"
  }
 },
 "nbformat": 4,
 "nbformat_minor": 4
}

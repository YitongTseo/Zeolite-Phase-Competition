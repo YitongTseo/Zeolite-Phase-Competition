{
 "cells": [
  {
   "cell_type": "markdown",
   "metadata": {},
   "source": [
    "# Cobalt titration experiments\n",
    "\n",
    "In this notebook, we reproduce Fig. S20B of the manuscript, which contains the results of the cobalt titration experiments."
   ]
  },
  {
   "cell_type": "code",
   "execution_count": 12,
   "metadata": {},
   "outputs": [],
   "source": [
    "import pandas as pd\n",
    "import numpy as np\n",
    "import matplotlib.pyplot as plt"
   ]
  },
  {
   "cell_type": "code",
   "execution_count": 28,
   "metadata": {},
   "outputs": [],
   "source": [
    "df = pd.read_csv('../data/figS20/figS20B.csv', index_col=0)"
   ]
  },
  {
   "cell_type": "code",
   "execution_count": 13,
   "metadata": {},
   "outputs": [],
   "source": [
    "def error_bar(values):\n",
    "    return np.std(values) / np.sqrt(len(values) - 2)"
   ]
  },
  {
   "cell_type": "code",
   "execution_count": 29,
   "metadata": {},
   "outputs": [],
   "source": [
    "spiro = df.loc[df.SDA == 'spiro']\n",
    "tmada = df.loc[df.SDA == 'TMAdaOH']"
   ]
  },
  {
   "cell_type": "code",
   "execution_count": 33,
   "metadata": {},
   "outputs": [
    {
     "data": {
      "image/png": "[encoded data removed]",
      "text/plain": [
       "<Figure size 144x216 with 1 Axes>"
      ]
     },
     "metadata": {
      "needs_background": "light"
     },
     "output_type": "display_data"
    }
   ],
   "source": [
    "fig, ax = plt.subplots(figsize=(2, 3))\n",
    "\n",
    "for osda, subdf in df.groupby('SDA'):\n",
    "    \n",
    "    ax.scatter(\n",
    "        subdf['Si/Al'].mean(),\n",
    "        subdf['Co/Al'].mean() * 100,\n",
    "        s=30\n",
    "    )\n",
    "\n",
    "    ax.errorbar(\n",
    "        subdf['Si/Al'].mean(),\n",
    "        subdf['Co/Al'].mean() * 100,\n",
    "        error_bar(subdf['Co/Al']) * 100,\n",
    "        error_bar(subdf['Si/Al']),\n",
    "        label=osda\n",
    "    )\n",
    "\n",
    "ax.set_xlabel('Si/Al')\n",
    "ax.set_ylabel('Co/Al (1E-2)')\n",
    "\n",
    "plt.show()"
   ]
  }
 ],
 "metadata": {
  "kernelspec": {
   "display_name": "htvs",
   "language": "python",
   "name": "htvs"
  },
  "language_info": {
   "codemirror_mode": {
    "name": "ipython",
    "version": 3
   },
   "file_extension": ".py",
   "mimetype": "text/x-python",
   "name": "python",
   "nbconvert_exporter": "python",
   "pygments_lexer": "ipython3",
   "version": "3.7.8"
  }
 },
 "nbformat": 4,
 "nbformat_minor": 4
}

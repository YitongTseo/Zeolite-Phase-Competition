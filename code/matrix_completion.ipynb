{
 "cells": [
  {
   "cell_type": "code",
   "execution_count": 30,
   "metadata": {},
   "outputs": [],
   "source": [
    "import itertools\n",
    "import pandas as pd\n",
    "import numpy as np\n",
    "\n",
    "import matplotlib as mpl\n",
    "import matplotlib.pyplot as plt\n",
    "from matplotlib import cm\n",
    "import seaborn as sns\n",
    "\n",
    "from scipy import stats\n",
    "\n",
    "LABEL_ALIAS = {\n",
    "    'lit': 'In literature?',\n",
    "    'ge': 'Germanosilicate composition?',\n",
    "    'zeo': 'Zeolite composition?',\n",
    "    'zty': 'Zeotype composition?',\n",
    "}\n",
    "\n",
    "df = pd.read_csv('../data/binding.csv', index_col=0)"
   ]
  },
  {
   "cell_type": "code",
   "execution_count": 31,
   "metadata": {},
   "outputs": [],
   "source": [
    "# idxmin = df.groupby(['Zeolite', 'InchiKey']).idxmin()\n",
    "# df.iloc[0][\"Competition (SiO2)\"]\n",
    "\n",
    "# pd.unique(df[\"Zeolite\"])  # -> 209 zeolites...\n",
    "# pd.unique(df[\"SMILES\"])  # -> 1194 smiles\n",
    "\n",
    "\n",
    "def construct_column_count_histogram(col: str, df: pd.DataFrame, n_bins=20):\n",
    "    col_vals = pd.unique(df[col])\n",
    "    histogram_by_count = {}\n",
    "    for val in col_vals:\n",
    "        count = len(df.loc[df[col] == val])\n",
    "        histogram_by_count[count] = histogram_by_count.get(count, 0) + 1\n",
    "    plt.hist(histogram_by_count, bins=n_bins)\n",
    "    plt.ylabel(\"# unique \" + col)\n",
    "    plt.title(\"Histogram of \" + col + \" binned by calculated binding energies\")\n",
    "    plt.xlabel(\"# calculated binding energies\")\n",
    "    print(\n",
    "        \"total cells: \",\n",
    "        sum([count * instances for count, instances in histogram_by_count.items()]),\n",
    "    )\n",
    "\n",
    "# construct_column_count_histogram(\"Zeolite\", df)\n",
    "# construct_column_count_histogram(\"Ligand formula\", df)\n"
   ]
  },
  {
   "cell_type": "code",
   "execution_count": 32,
   "metadata": {},
   "outputs": [
    {
     "name": "stdout",
     "output_type": "stream",
     "text": [
      "total not na cells: 112426\n"
     ]
    },
    {
     "name": "stderr",
     "output_type": "stream",
     "text": [
      "<ipython-input-32-31de74e139b9>:28: MatplotlibDeprecationWarning: savefig() got unexpected keyword argument \"figsize\" which is no longer supported as of 3.3 and will become an error two minor releases later\n",
      "  plt.savefig('matrix.png',dpi=150, figsize=(8,6))\n",
      "<ipython-input-32-31de74e139b9>:31: MatplotlibDeprecationWarning: savefig() got unexpected keyword argument \"figsize\" which is no longer supported as of 3.3 and will become an error two minor releases later\n",
      "  plt.savefig('reconstructed_matrix.png',dpi=150, figsize=(8,6))\n",
      "<ipython-input-32-31de74e139b9>:35: MatplotlibDeprecationWarning: savefig() got unexpected keyword argument \"figsize\" which is no longer supported as of 3.3 and will become an error two minor releases later\n",
      "  plt.savefig('difference.png',dpi=150, figsize=(8,6))\n"
     ]
    },
    {
     "data": {
      "image/png": "[encoded data removed]",
      "text/plain": [
       "<Figure size 432x288 with 1 Axes>"
      ]
     },
     "metadata": {
      "needs_background": "light"
     },
     "output_type": "display_data"
    }
   ],
   "source": [
    "matrix = df.pivot(index=\"SMILES\", columns=\"Zeolite\", values=\"Binding (OSDA)\")\n",
    "print('total not na cells:', matrix.notna().sum().sum())  # 17587 what gives?\n",
    "\n",
    "np_matrix = matrix.to_numpy()\n",
    "np_matrix = np.nan_to_num(np_matrix)\n",
    "U, s, V = np.linalg.svd(np_matrix)\n",
    "var_explained = np.round(s ** 2 / np.sum(s ** 2), decimals=3)\n",
    "\n",
    "\n",
    "def plot_top_k_singular_values(var_explained, top_k=70):\n",
    "    fig = plt.figure()\n",
    "    ax = fig.add_axes([0, 0, 1, 1])\n",
    "    ax.bar(range(top_k), var_explained[0:top_k])\n",
    "    plt.xlabel(\"Singular Vector\", fontsize=16)\n",
    "    plt.ylabel(\"Proportion of Variance\", fontsize=16)\n",
    "    plt.tight_layout()\n",
    "    plt.savefig(\"svd_scree_plot.png\", dpi=150, figsize=(8, 6))\n",
    "    plt.show()\n",
    "\n",
    "num_components = 209\n",
    "reconstructed_matrix = (\n",
    "    np.matrix(U[:, :num_components])\n",
    "    * np.diag(s[:num_components])\n",
    "    * np.matrix(V[:num_components, :])\n",
    ")\n",
    "\n",
    "plt.imshow(np_matrix)\n",
    "plt.savefig('matrix.png',dpi=150)\n",
    "\n",
    "plt.imshow(reconstructed_matrix)\n",
    "plt.savefig('reconstructed_matrix.png',dpi=150)\n",
    "\n",
    "plt.imshow(np_matrix - reconstructed_matrix)\n",
    "plt.savefig('difference.png',dpi=150)"
   ]
  },
  {
   "cell_type": "code",
   "execution_count": 37,
   "metadata": {},
   "outputs": [
    {
     "name": "stdout",
     "output_type": "stream",
     "text": [
      "mask:  [[False False False ... False False False]\n",
      " [False False False ... False False False]\n",
      " [False False False ... False False False]\n",
      " ...\n",
      " [False False False ... False False False]\n",
      " [False False False ... False False False]\n",
      " [False False False ... False False False]]\n",
      "--Return--\n",
      "None\n",
      "> \u001b[0;32m<ipython-input-37-bcfdfebc4195>\u001b[0m(12)\u001b[0;36m<module>\u001b[0;34m()\u001b[0m\n",
      "\u001b[0;32m      9 \u001b[0;31m\u001b[0mmask\u001b[0m \u001b[0;34m=\u001b[0m \u001b[0mnp\u001b[0m\u001b[0;34m.\u001b[0m\u001b[0misnan\u001b[0m\u001b[0;34m(\u001b[0m\u001b[0mnp_matrix\u001b[0m\u001b[0;34m)\u001b[0m\u001b[0;34m\u001b[0m\u001b[0;34m\u001b[0m\u001b[0m\n",
      "\u001b[0m\u001b[0;32m     10 \u001b[0;31m\u001b[0;31m# pdb.set_trace()\u001b[0m\u001b[0;34m\u001b[0m\u001b[0;34m\u001b[0m\u001b[0;34m\u001b[0m\u001b[0m\n",
      "\u001b[0m\u001b[0;32m     11 \u001b[0;31m\u001b[0mprint\u001b[0m\u001b[0;34m(\u001b[0m\u001b[0;34m'mask: '\u001b[0m\u001b[0;34m,\u001b[0m \u001b[0mmask\u001b[0m\u001b[0;34m)\u001b[0m\u001b[0;34m\u001b[0m\u001b[0;34m\u001b[0m\u001b[0m\n",
      "\u001b[0m\u001b[0;32m---> 12 \u001b[0;31m\u001b[0mpdb\u001b[0m\u001b[0;34m.\u001b[0m\u001b[0mset_trace\u001b[0m\u001b[0;34m(\u001b[0m\u001b[0;34m)\u001b[0m\u001b[0;34m\u001b[0m\u001b[0;34m\u001b[0m\u001b[0m\n",
      "\u001b[0m\u001b[0;32m     13 \u001b[0;31m\u001b[0mprint\u001b[0m\u001b[0;34m(\u001b[0m\u001b[0;34m'hello'\u001b[0m\u001b[0;34m)\u001b[0m\u001b[0;34m\u001b[0m\u001b[0;34m\u001b[0m\u001b[0m\n",
      "\u001b[0m\n",
      "--KeyboardInterrupt--\n",
      "\n",
      "KeyboardInterrupt: Interrupted by user\n",
      "hello\n"
     ]
    }
   ],
   "source": [
    "from matrix_completion import svt_solve, calc_unobserved_rmse\n",
    "import pdb\n",
    "# which -a pip\n",
    "# /opt/anaconda3/bin/pip install matrix-completion\n",
    "# /opt/anaconda3/bin/pip install cvxpy\n",
    "\n",
    "#okay let's try svt_solve first...\n",
    "\n",
    "mask = np.isnan(np_matrix)\n",
    "# pdb.set_trace()\n",
    "print('mask: ', mask)\n",
    "pdb.set_trace()\n",
    "print('hello')"
   ]
  }
 ],
 "metadata": {
  "interpreter": {
   "hash": "40d3a090f54c6569ab1632332b64b2c03c39dcf918b08424e98f38b5ae0af88f"
  },
  "kernelspec": {
   "display_name": "Python 3.8.8 64-bit ('base': conda)",
   "name": "python3"
  },
  "language_info": {
   "codemirror_mode": {
    "name": "ipython",
    "version": 3
   },
   "file_extension": ".py",
   "mimetype": "text/x-python",
   "name": "python",
   "nbconvert_exporter": "python",
   "pygments_lexer": "ipython3",
   "version": "3.8.8"
  },
  "orig_nbformat": 4
 },
 "nbformat": 4,
 "nbformat_minor": 2
}
